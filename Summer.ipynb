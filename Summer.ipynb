{
  "nbformat": 4,
  "nbformat_minor": 0,
  "metadata": {
    "kernelspec": {
      "display_name": "Python 2",
      "language": "python",
      "name": "python2"
    },
    "language_info": {
      "codemirror_mode": {
        "name": "ipython",
        "version": 2
      },
      "file_extension": ".py",
      "mimetype": "text/x-python",
      "name": "python",
      "nbconvert_exporter": "python",
      "pygments_lexer": "ipython2",
      "version": "2.7.16"
    },
    "colab": {
      "name": "Summer.ipynb",
      "provenance": []
    }
  },
  "cells": [
    {
      "cell_type": "markdown",
      "metadata": {
        "id": "bqkDfr4hDoMp"
      },
      "source": [
        "# Summer Olympics Data Analysis Assignment"
      ]
    },
    {
      "cell_type": "markdown",
      "metadata": {
        "id": "kVN2VgziDoMr"
      },
      "source": [
        "### 1. In how many cities Summer Olympics is held so far?"
      ]
    },
    {
      "cell_type": "code",
      "metadata": {
        "colab": {
          "base_uri": "https://localhost:8080/"
        },
        "id": "tjURneBnDoMs",
        "outputId": "628d6da0-9eeb-4965-833e-cabf6e008a55"
      },
      "source": [
        "import warnings\n",
        "warnings.filterwarnings('ignore')\n",
        "import pandas as pd\n",
        "\n",
        "df = pd.read_csv('summer.csv')\n",
        "\n",
        "n = df['City'].unique().size\n",
        "print(\"Number of unique cities =\", n)\n",
        "\n",
        "# 22"
      ],
      "execution_count": 33,
      "outputs": [
        {
          "output_type": "stream",
          "name": "stdout",
          "text": [
            "('Number of unique cities =', 22)\n"
          ]
        }
      ]
    },
    {
      "cell_type": "markdown",
      "metadata": {
        "id": "0z496HWSDoMs"
      },
      "source": [
        "### 2. Which sport is having most number of Gold Medals so far? (Top 5)"
      ]
    },
    {
      "cell_type": "code",
      "metadata": {
        "colab": {
          "base_uri": "https://localhost:8080/",
          "height": 419
        },
        "id": "n-UX-X9lDoMs",
        "outputId": "3687b515-e9ef-474f-90b4-800873156563"
      },
      "source": [
        "import matplotlib.pyplot as plt\n",
        "\n",
        "data = df[df['Medal'] == 'Gold']['Sport'].groupby(df['Sport']).count().sort_values(ascending=False).head()\n",
        "print(data)\n",
        "plt.scatter(data.keys(), data.values)\n",
        "plt.xlabel('Sport')\n",
        "plt.ylabel('Gold Medals')\n",
        "plt.show()\n",
        "\n",
        "print(\"Sport with most gold medals is\", data.keys()[0], 'with', data[0], 'gold medals.')\n",
        "\n",
        "# Aquatics"
      ],
      "execution_count": 34,
      "outputs": [
        {
          "output_type": "stream",
          "name": "stdout",
          "text": [
            "Sport\n",
            "Aquatics      1421\n",
            "Athletics     1215\n",
            "Rowing         890\n",
            "Gymnastics     820\n",
            "Fencing        552\n",
            "Name: Sport, dtype: int64\n"
          ]
        },
        {
          "output_type": "display_data",
          "data": {
            "image/png": "[encoded data removed]",
            "text/plain": [
              "<Figure size 432x288 with 1 Axes>"
            ]
          },
          "metadata": {
            "needs_background": "light"
          }
        },
        {
          "output_type": "stream",
          "name": "stdout",
          "text": [
            "('Sport with most gold medals is', 'Aquatics', 'with', 1421, 'gold medals.')\n"
          ]
        }
      ]
    },
    {
      "cell_type": "markdown",
      "metadata": {
        "id": "eEt-4JiPDoMt"
      },
      "source": [
        "### 3. Which sport is having most number of medals so far? (Top 5)"
      ]
    },
    {
      "cell_type": "code",
      "metadata": {
        "id": "YI9WiiAIDoMt",
        "colab": {
          "base_uri": "https://localhost:8080/",
          "height": 419
        },
        "outputId": "1631a5f8-4042-4ca0-832f-9542ed1a3bd1"
      },
      "source": [
        "data = df['Medal'].groupby(df['Sport']).count().sort_values(ascending=False).head()\n",
        "print(data)\n",
        "plt.scatter(data.keys(), data.values)\n",
        "plt.xlabel('Sport')\n",
        "plt.ylabel('Medals')\n",
        "plt.show()\n",
        "\n",
        "print(\"Sport with most medals is\", data.keys()[0], 'with', data[0], 'medals.')\n",
        "\n",
        "# Aquatics"
      ],
      "execution_count": 35,
      "outputs": [
        {
          "output_type": "stream",
          "name": "stdout",
          "text": [
            "Sport\n",
            "Aquatics      4170\n",
            "Athletics     3638\n",
            "Rowing        2667\n",
            "Gymnastics    2307\n",
            "Fencing       1613\n",
            "Name: Medal, dtype: int64\n"
          ]
        },
        {
          "output_type": "display_data",
          "data": {
            "image/png": "[encoded data removed]",
            "text/plain": [
              "<Figure size 432x288 with 1 Axes>"
            ]
          },
          "metadata": {
            "needs_background": "light"
          }
        },
        {
          "output_type": "stream",
          "name": "stdout",
          "text": [
            "('Sport with most medals is', 'Aquatics', 'with', 4170, 'medals.')\n"
          ]
        }
      ]
    },
    {
      "cell_type": "markdown",
      "metadata": {
        "id": "tn8iQvegDoMt"
      },
      "source": [
        "### 4. Which player has won most number of medals? (Top 5)"
      ]
    },
    {
      "cell_type": "code",
      "metadata": {
        "id": "gqlXhJleDoMt",
        "colab": {
          "base_uri": "https://localhost:8080/",
          "height": 499
        },
        "outputId": "01edd9c2-be8d-4c4c-97b5-ad3560a07285"
      },
      "source": [
        "data = df['Medal'].groupby(df['Athlete']).count().sort_values(ascending=False).head()\n",
        "print(data)\n",
        "plt.scatter(data.keys(), data.values)\n",
        "plt.xlabel('Player')\n",
        "plt.ylabel('Medals')\n",
        "plt.xticks(rotation=45)\n",
        "plt.show()\n",
        "\n",
        "print(\"Athlete with most medals is\", data.keys()[0], 'with', data[0], 'medals.')\n",
        "\n",
        "# PHELPS, Michael"
      ],
      "execution_count": 36,
      "outputs": [
        {
          "output_type": "stream",
          "name": "stdout",
          "text": [
            "Athlete\n",
            "PHELPS, Michael         22\n",
            "LATYNINA, Larisa        18\n",
            "ANDRIANOV, Nikolay      15\n",
            "MANGIAROTTI, Edoardo    13\n",
            "SHAKHLIN, Boris         13\n",
            "Name: Medal, dtype: int64\n"
          ]
        },
        {
          "output_type": "display_data",
          "data": {
            "image/png": "[encoded data removed]",
            "text/plain": [
              "<Figure size 432x288 with 1 Axes>"
            ]
          },
          "metadata": {
            "needs_background": "light"
          }
        },
        {
          "output_type": "stream",
          "name": "stdout",
          "text": [
            "('Athlete with most medals is', 'PHELPS, Michael', 'with', 22, 'medals.')\n"
          ]
        }
      ]
    },
    {
      "cell_type": "markdown",
      "metadata": {
        "id": "JKugT6BjDoMu"
      },
      "source": [
        "### 5. Which player has won most number Gold Medals of medals? (Top 5)"
      ]
    },
    {
      "cell_type": "code",
      "metadata": {
        "id": "6V-A6sPLDoMu",
        "colab": {
          "base_uri": "https://localhost:8080/",
          "height": 476
        },
        "outputId": "b72c65dc-bd0f-49fa-abdf-248da8509fed"
      },
      "source": [
        "data = df[df['Medal'] == 'Gold']['Athlete'].groupby(df['Athlete']).count().sort_values(ascending=False).head()\n",
        "print(data)\n",
        "plt.scatter(data.keys(), data.values)\n",
        "plt.xlabel('Player')\n",
        "plt.ylabel('Gold Medals')\n",
        "plt.xticks(rotation=45)\n",
        "plt.show()\n",
        "\n",
        "print(\"Player with most gold medals is\", data.keys()[0], 'with', data[0], 'gold medals.')\n",
        "\n",
        "# PHELPS, Michael"
      ],
      "execution_count": 37,
      "outputs": [
        {
          "output_type": "stream",
          "name": "stdout",
          "text": [
            "Athlete\n",
            "PHELPS, Michael     18\n",
            "NURMI, Paavo         9\n",
            "SPITZ, Mark          9\n",
            "LEWIS, Carl          9\n",
            "LATYNINA, Larisa     9\n",
            "Name: Athlete, dtype: int64\n"
          ]
        },
        {
          "output_type": "display_data",
          "data": {
            "image/png": "[encoded data removed]",
            "text/plain": [
              "<Figure size 432x288 with 1 Axes>"
            ]
          },
          "metadata": {
            "needs_background": "light"
          }
        },
        {
          "output_type": "stream",
          "name": "stdout",
          "text": [
            "('Player with most gold medals is', 'PHELPS, Michael', 'with', 18, 'gold medals.')\n"
          ]
        }
      ]
    },
    {
      "cell_type": "markdown",
      "metadata": {
        "id": "ms0rzRWFDoMu"
      },
      "source": [
        "### 6. In which year India won first Gold Medal in Summer Olympics?"
      ]
    },
    {
      "cell_type": "code",
      "metadata": {
        "id": "YiSR2xewDoMu",
        "colab": {
          "base_uri": "https://localhost:8080/"
        },
        "outputId": "3338dcd9-d717-432d-f7d6-1d0f1b8e9958"
      },
      "source": [
        "data = df.sort_values(by='Year')[df['Country'] == \"IND\"][df['Medal'] == 'Gold'].head()\n",
        "print(\"India won its first Gold medal in the year\", data.iloc[0]['Year'])\n",
        "\n",
        "# 1928"
      ],
      "execution_count": 38,
      "outputs": [
        {
          "output_type": "stream",
          "name": "stdout",
          "text": [
            "('India won its first Gold medal in the year', 1928)\n"
          ]
        }
      ]
    },
    {
      "cell_type": "markdown",
      "metadata": {
        "id": "mYhGdj8YDoMu"
      },
      "source": [
        "### 7. Which event is most popular in terms on number of players? (Top 5)"
      ]
    },
    {
      "cell_type": "code",
      "metadata": {
        "id": "hPyR8EEVDoMv",
        "colab": {
          "base_uri": "https://localhost:8080/",
          "height": 506
        },
        "outputId": "eb89dc4d-dabe-43ac-9697-26c0b5758b2b"
      },
      "source": [
        "data = df.groupby('Event').nunique()['Athlete'].sort_values(ascending=False).head()\n",
        "print(data)\n",
        "plt.scatter(data.keys(), data.values)\n",
        "plt.xlabel('Event')\n",
        "plt.ylabel('No. of Players')\n",
        "plt.xticks(rotation=45)\n",
        "plt.show()\n",
        "\n",
        "print(\"Event with most players is\", data.keys()[0], 'with', data[0], 'players.')\n",
        "\n",
        "# Football"
      ],
      "execution_count": 39,
      "outputs": [
        {
          "output_type": "stream",
          "name": "stdout",
          "text": [
            "Event\n",
            "Football                    1357\n",
            "Hockey                      1154\n",
            "Team Competition             975\n",
            "Eight With Coxswain (8+)     828\n",
            "Basketball                   814\n",
            "Name: Athlete, dtype: int64\n"
          ]
        },
        {
          "output_type": "display_data",
          "data": {
            "image/png": "[encoded data removed]",
            "text/plain": [
              "<Figure size 432x288 with 1 Axes>"
            ]
          },
          "metadata": {
            "needs_background": "light"
          }
        },
        {
          "output_type": "stream",
          "name": "stdout",
          "text": [
            "('Event with most players is', 'Football', 'with', 1357, 'players.')\n"
          ]
        }
      ]
    },
    {
      "cell_type": "markdown",
      "metadata": {
        "id": "vD978Kv8DoMv"
      },
      "source": [
        "### 8. Which sport is having most female Gold Medalists? (Top 5)"
      ]
    },
    {
      "cell_type": "code",
      "metadata": {
        "id": "nKRJiMw9DoMv",
        "colab": {
          "base_uri": "https://localhost:8080/",
          "height": 419
        },
        "outputId": "8f81fe39-9fcb-4700-d1d7-4ebb6d1e9402"
      },
      "source": [
        "data = df[df['Gender'] == 'Women'][df['Medal'] == 'Gold'].groupby('Sport').nunique()['Athlete'].sort_values(ascending=False).head()\n",
        "print(data)\n",
        "plt.scatter(data.keys(), data.values)\n",
        "plt.xlabel('Sport')\n",
        "plt.ylabel('Gold Medals')\n",
        "plt.show()\n",
        "\n",
        "print(\"Sport with most female gold medalists is\", data.keys()[0], 'with', data[0], 'unique gold medalists.')\n",
        "\n",
        "# Aquatics"
      ],
      "execution_count": 40,
      "outputs": [
        {
          "output_type": "stream",
          "name": "stdout",
          "text": [
            "Sport\n",
            "Aquatics      385\n",
            "Athletics     306\n",
            "Gymnastics    188\n",
            "Rowing        157\n",
            "Volleyball    132\n",
            "Name: Athlete, dtype: int64\n"
          ]
        },
        {
          "output_type": "display_data",
          "data": {
            "image/png": "[encoded data removed]",
            "text/plain": [
              "<Figure size 432x288 with 1 Axes>"
            ]
          },
          "metadata": {
            "needs_background": "light"
          }
        },
        {
          "output_type": "stream",
          "name": "stdout",
          "text": [
            "('Sport with most female gold medalists is', 'Aquatics', 'with', 385, 'unique gold medalists.')\n"
          ]
        }
      ]
    }
  ]
}